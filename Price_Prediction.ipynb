{
  "nbformat": 4,
  "nbformat_minor": 0,
  "metadata": {
    "colab": {
      "provenance": []
    },
    "kernelspec": {
      "name": "python3",
      "display_name": "Python 3"
    },
    "language_info": {
      "name": "python"
    }
  },
  "cells": [
    {
      "cell_type": "code",
      "execution_count": null,
      "metadata": {
        "id": "hidf3yMkmUoh"
      },
      "outputs": [],
      "source": [
        "import math\n",
        "import pandas as pd\n",
        "import numpy as np\n",
        "from sklearn import linear_model\n"
      ]
    },
    {
      "cell_type": "code",
      "source": [
        "data=pd.read_excel('prices.xlsx')"
      ],
      "metadata": {
        "id": "R5URLIzPM5bl"
      },
      "execution_count": null,
      "outputs": []
    },
    {
      "cell_type": "code",
      "source": [
        "X = data[['Distance(Km)', 'Ton','lp','up','Flexible']]\n",
        "y = data['Total Lorry Hire(RS)']\n"
      ],
      "metadata": {
        "id": "TzM5SxbQNZB4"
      },
      "execution_count": null,
      "outputs": []
    },
    {
      "cell_type": "code",
      "source": [
        "Distance=int(input(\"Enter the Distance of the transpotation: \"))\n",
        "Ton=int(input(\"Enter the Weight of the Goods (in tons): \"))\n",
        "print('Is the Loading point :Port area or metro city or remote area')\n",
        "Loading_point=input('Loading point: ')"
      ],
      "metadata": {
        "colab": {
          "base_uri": "https://localhost:8080/"
        },
        "id": "Ca_QgKVpvZ-z",
        "outputId": "cb9658cc-5bbd-437b-ee5b-56327da888b6"
      },
      "execution_count": null,
      "outputs": [
        {
          "name": "stdout",
          "output_type": "stream",
          "text": [
            "Enter the Distance of the transpotation: 90\n",
            "Enter the Weight of the Goods (in tons): 90\n",
            "Is the Loading point :Port area or metro city or remote area\n",
            "Loading point: remote area\n"
          ]
        }
      ]
    },
    {
      "cell_type": "code",
      "source": [
        "if Loading_point.lower() == 'port area' or Loading_point.lower() =='metro city':\n",
        "    lp=1\n",
        "elif Loading_point.lower()=='remote area':\n",
        "    lp=0\n",
        "else:\n",
        "     print ('Incorrect value is given')\n",
        "print('Is the Unloading point :Port area or metro city or remote area')\n",
        "Unloading_point=input('Unloading point: ')\n",
        "if Unloading_point.lower()== 'port area' or Unloading_point.lower()== 'metro city':\n",
        "     up=1\n",
        "elif Unloading_point.lower() =='remote area':\n",
        "     up=0\n",
        "else:\n",
        "     print ('Incorrect value is given')\n",
        "print('Is the Vehicle type :Semi low bed or High bed')\n",
        "vehicle_type=input('Vehicle type: ')\n",
        "if vehicle_type.lower()== 'high bed':\n",
        "     vt=1\n",
        "elif vehicle_type.lower() == 'semi low bed':\n",
        "     vt=0\n",
        "else:\n",
        "     print ('Incorrect value is given')\n"
      ],
      "metadata": {
        "id": "43Yz6vxNNgu-",
        "colab": {
          "base_uri": "https://localhost:8080/"
        },
        "outputId": "4541f7f4-3b3c-4f02-c03a-2dc61de9e57e"
      },
      "execution_count": null,
      "outputs": [
        {
          "name": "stdout",
          "output_type": "stream",
          "text": [
            "Is the Unloading point :Port area or metro city or remote area\n",
            "Unloading point: remote area\n",
            "Is the Vehicle type :Semi low bed or High bed\n",
            "Vehicle type: High bed\n"
          ]
        }
      ]
    },
    {
      "cell_type": "code",
      "source": [
        "class bill():\n",
        "      def Billing(self):\n",
        "            regr = linear_model.LinearRegression()\n",
        "            regr.fit(X, y)\n",
        "            rent = regr.predict([[Distance,Ton,lp,up,vt]])\n",
        "            print(\"Rent : \",np.round(np.trunc(rent),3))\n",
        "            x=np.round(np.trunc(rent),3)\n",
        "            Gst=x*5/100\n",
        "            final=x+Gst\n",
        "            advance=final*80/100\n",
        "            balance=final-np.round(np.trunc(advance),3)\n",
        "            print(\"Final rent including Gst : \",final)\n",
        "            print(\"Advance : \",np.round(np.trunc(advance),3))\n",
        "            print(\"Blance : \",balance)"
      ],
      "metadata": {
        "id": "8PwRV_gEsYxf"
      },
      "execution_count": null,
      "outputs": []
    },
    {
      "cell_type": "code",
      "source": [
        "class safty(bill):\n",
        "      def safty_measures(self):\n",
        "        if Distance>500:\n",
        "            print(\"You are going a long drive Please take the necessary breaks in between!\")\n",
        "        elif Ton>20:\n",
        "            print(\"You are driving with a heavy Goods drive care fully!\")\n",
        "        else:\n",
        "            print(\"Have a safe journey!\")\n",
        "\n",
        "\n",
        "extras=bill()\n",
        "extras.Billing()\n",
        "safty=safty()\n",
        "safty.safty_measures()"
      ],
      "metadata": {
        "colab": {
          "base_uri": "https://localhost:8080/"
        },
        "id": "Bonc-tjxsffS",
        "outputId": "f0d0fffe-b03d-4b96-cc44-b3b4abbde8c9"
      },
      "execution_count": null,
      "outputs": [
        {
          "output_type": "stream",
          "name": "stdout",
          "text": [
            "Rent :  [101701.]\n",
            "Final rent including Gst :  [106786.05]\n",
            "Advance :  [85428.]\n",
            "Blance :  [21358.05]\n",
            "You are driving with a heavy Goods drive care fully!\n"
          ]
        },
        {
          "output_type": "stream",
          "name": "stderr",
          "text": [
            "/usr/local/lib/python3.10/dist-packages/sklearn/base.py:439: UserWarning: X does not have valid feature names, but LinearRegression was fitted with feature names\n",
            "  warnings.warn(\n"
          ]
        }
      ]
    }
  ]
}